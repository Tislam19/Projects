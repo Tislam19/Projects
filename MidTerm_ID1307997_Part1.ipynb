{
  "nbformat": 4,
  "nbformat_minor": 0,
  "metadata": {
    "colab": {
      "provenance": [],
      "authorship_tag": "ABX9TyPwNhQfJ6vvXQN+xM68yZL0",
      "include_colab_link": true
    },
    "kernelspec": {
      "name": "python3",
      "display_name": "Python 3"
    },
    "language_info": {
      "name": "python"
    }
  },
  "cells": [
    {
      "cell_type": "markdown",
      "metadata": {
        "id": "view-in-github",
        "colab_type": "text"
      },
      "source": [
        "<a href=\"https://colab.research.google.com/github/Tislam19/Projects/blob/main/MidTerm_ID1307997_Part1.ipynb\" target=\"_parent\"><img src=\"https://colab.research.google.com/assets/colab-badge.svg\" alt=\"Open In Colab\"/></a>"
      ]
    },
    {
      "cell_type": "code",
      "execution_count": 5,
      "metadata": {
        "colab": {
          "base_uri": "https://localhost:8080/"
        },
        "id": "ymLnQbB8-82l",
        "outputId": "e83957fd-4565-4f08-a5c4-82b178736a7d"
      },
      "outputs": [
        {
          "output_type": "stream",
          "name": "stdout",
          "text": [
            "At least one solution of x for the given polynomial equation is:  (-2.1337098754514727e-16+2.665792540321754j)\n"
          ]
        }
      ],
      "source": [
        "\n",
        "#We can use Python's libraries, such as NumPy and SciPy, to find at least one solution of the given polynomial equation.\n",
        "\n",
        "import numpy as np\n",
        "import scipy as sp\n",
        "# Define the polynomial equation\n",
        "p = [1, 0, 10, 0, 20, 0, -4, 0]\n",
        "\n",
        "# Find the roots of the polynomial equation\n",
        "roots = np.roots(p)\n",
        "\n",
        "# Print the roots\n",
        "print(\"At least one solution of x for the given polynomial equation is: \", roots[0])\n"
      ]
    }
  ]
}