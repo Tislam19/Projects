{
  "nbformat": 4,
  "nbformat_minor": 0,
  "metadata": {
    "colab": {
      "provenance": [],
      "include_colab_link": true
    },
    "kernelspec": {
      "name": "python3",
      "display_name": "Python 3"
    },
    "language_info": {
      "name": "python"
    }
  },
  "cells": [
    {
      "cell_type": "markdown",
      "metadata": {
        "id": "view-in-github",
        "colab_type": "text"
      },
      "source": [
        "<a href=\"https://colab.research.google.com/github/Tislam19/Projects/blob/main/Copy_of_Sum_group.ipynb\" target=\"_parent\"><img src=\"https://colab.research.google.com/assets/colab-badge.svg\" alt=\"Open In Colab\"/></a>"
      ]
    },
    {
      "cell_type": "code",
      "execution_count": null,
      "metadata": {
        "id": "aY8QnC4JgKLx",
        "colab": {
          "base_uri": "https://localhost:8080/"
        },
        "outputId": "79d60a96-d88d-4d99-cfcc-0c357a68a98a"
      },
      "outputs": [
        {
          "output_type": "stream",
          "name": "stdout",
          "text": [
            "Product  Location  Year\n",
            "A        NJ        2021    430\n",
            "                   2022    260\n",
            "                   2023    225\n",
            "         NY        2021    195\n",
            "                   2022     90\n",
            "B        NJ        2022    145\n",
            "                   2023    110\n",
            "         NY        2021    420\n",
            "                   2022    290\n",
            "                   2023     80\n",
            "C        NJ        2021    170\n",
            "                   2022    465\n",
            "                   2023     60\n",
            "         NY        2021    210\n",
            "                   2022     95\n",
            "Name: Sales, dtype: int64\n",
            "                       sum within group\n",
            "Product Location Year                  \n",
            "A       NJ       2021               430\n",
            "                 2022               260\n",
            "                 2023               225\n",
            "        NY       2021               195\n",
            "                 2022                90\n",
            "B       NJ       2022               145\n",
            "                 2023               110\n",
            "        NY       2021               420\n",
            "                 2022               290\n",
            "                 2023                80\n",
            "C       NJ       2021               170\n",
            "                 2022               465\n",
            "                 2023                60\n",
            "        NY       2021               210\n",
            "                 2022                95\n"
          ]
        }
      ],
      "source": [
        "\n",
        "import pandas as pd\n",
        "\n",
        "# Sample sales data with 30 observations\n",
        "data = {\n",
        "    'Product': ['A', 'B', 'A', 'C', 'B', 'C', 'A', 'B', 'C', 'A',\n",
        "                'B', 'C', 'A', 'B', 'C', 'A', 'B', 'C', 'A', 'B',\n",
        "                'C', 'A', 'B', 'C', 'A', 'B', 'C', 'A', 'B', 'C'],\n",
        "    'Year': [2021, 2022, 2021, 2022, 2021, 2023, 2022, 2023, 2022, 2021,\n",
        "             2022, 2021, 2022, 2023, 2022, 2023, 2021, 2022, 2021, 2022,\n",
        "             2021, 2023, 2021, 2022, 2021, 2022, 2021, 2022, 2021, 2022],\n",
        "    'Location': ['NJ', 'NY', 'NJ', 'NY', 'NY', 'NJ', 'NJ', 'NY', 'NJ', 'NJ',\n",
        "                'NY', 'NJ', 'NY', 'NJ', 'NY', 'NJ', 'NY', 'NJ', 'NY', 'NJ',\n",
        "                'NY', 'NJ', 'NY', 'NJ', 'NY', 'NJ', 'NY', 'NJ', 'NY', 'NJ'],\n",
        "    'Sales': [100, 150, 200, 50, 75, 60, 120, 80, 55, 130,\n",
        "              140, 170, 90, 110, 45, 130, 160, 180, 40, 70,\n",
        "              120, 95, 65, 120, 155, 75, 90, 140, 120, 110]\n",
        "}\n",
        "\n",
        "# Create a DataFrame\n",
        "df = pd.DataFrame(data)\n",
        "\n",
        "## what is your code to generate desired output.\n",
        "# Q1: sum the sales for sub-group\n",
        "# Q2: rename the column or the pandas series table.\n",
        "\n",
        "\n",
        "\n",
        "# Group the data by Product and Year columns and calculate the sum of Sales within each group\n",
        "grouped_data = df.groupby(['Product','Location', 'Year'])['Sales'].sum()\n",
        "\n",
        "# Print the grouped data\n",
        "print(grouped_data)\n",
        "\n",
        "# Create a new DataFrame\n",
        "result = pd.DataFrame(grouped_data)\n",
        "\n",
        "# Rename the 'Sales' column to 'sum within group'\n",
        "result.rename(columns={'Sales': 'sum within group'}, inplace=True)\n",
        "\n",
        "# Print the updated DataFrame\n",
        "print(result)\n",
        "\n"
      ]
    }
  ]
}